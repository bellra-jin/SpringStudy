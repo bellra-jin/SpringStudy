{
 "cells": [
  {
   "cell_type": "markdown",
   "metadata": {},
   "source": [
    "# 간단한 챗봇 만들기\n",
    "\n",
    "1. 랭스미스 연결"
   ]
  },
  {
   "cell_type": "code",
   "execution_count": 1,
   "metadata": {},
   "outputs": [
    {
     "data": {
      "text/plain": [
       "True"
      ]
     },
     "execution_count": 1,
     "metadata": {},
     "output_type": "execute_result"
    }
   ],
   "source": [
    "from dotenv import load_dotenv\n",
    "\n",
    "load_dotenv(dotenv_path=\"../99_env/.env\")"
   ]
  },
  {
   "cell_type": "markdown",
   "metadata": {},
   "source": [
    "2. 모델 로드"
   ]
  },
  {
   "cell_type": "code",
   "execution_count": 2,
   "metadata": {},
   "outputs": [],
   "source": [
    "from langchain.chat_models import ChatOllama\n",
    "\n",
    "model = ChatOllama(\n",
    "    model=\"gemma2:latest\",\n",
    "    temperature=0.3\n",
    ")"
   ]
  },
  {
   "cell_type": "markdown",
   "metadata": {},
   "source": [
    "3. LLM과 대화하기"
   ]
  },
  {
   "cell_type": "code",
   "execution_count": 3,
   "metadata": {},
   "outputs": [
    {
     "data": {
      "text/plain": [
       "AIMessage(content='안녕하세요, 차은우님! 😊  \\n\\n만나서 반가워요. 무엇을 도와드릴까요? 😄', response_metadata={'model': 'gemma2:latest', 'created_at': '2024-09-06T00:54:20.2349965Z', 'message': {'role': 'assistant', 'content': ''}, 'done_reason': 'stop', 'done': True, 'total_duration': 2820477000, 'load_duration': 60344400, 'prompt_eval_count': 18, 'prompt_eval_duration': 449719000, 'eval_count': 32, 'eval_duration': 2306937000}, id='run-14ea2af1-199b-489b-aa5f-0da83d4d9c16-0')"
      ]
     },
     "execution_count": 3,
     "metadata": {},
     "output_type": "execute_result"
    }
   ],
   "source": [
    "from langchain_core.messages import HumanMessage\n",
    "\n",
    "model.invoke([HumanMessage(content=\"안녕? 난 차은우야\")])"
   ]
  },
  {
   "cell_type": "code",
   "execution_count": 4,
   "metadata": {},
   "outputs": [
    {
     "data": {
      "text/plain": [
       "AIMessage(content='저는 Gemma입니다. 저는 구글에서 훈련된 대규모 언어 모델입니다.', response_metadata={'model': 'gemma2:latest', 'created_at': '2024-09-06T00:54:52.733566Z', 'message': {'role': 'assistant', 'content': ''}, 'done_reason': 'stop', 'done': True, 'total_duration': 2096967900, 'load_duration': 60920200, 'prompt_eval_count': 16, 'prompt_eval_duration': 393001000, 'eval_count': 23, 'eval_duration': 1640755000}, id='run-0b758f9a-0c12-4d05-9c64-0ec373a4e7e5-0')"
      ]
     },
     "execution_count": 4,
     "metadata": {},
     "output_type": "execute_result"
    }
   ],
   "source": [
    "model.invoke([HumanMessage(content=\"내 이름이 뭐라고?\")])"
   ]
  },
  {
   "cell_type": "code",
   "execution_count": 6,
   "metadata": {},
   "outputs": [
    {
     "data": {
      "text/plain": [
       "AIMessage(content='당신의 이름은 차은우라고 말씀하셨어요! 😊  \\n\\n혹시 다른 질문이 있으세요? 😄', response_metadata={'model': 'gemma2:latest', 'created_at': '2024-09-06T00:57:59.6955053Z', 'message': {'role': 'assistant', 'content': ''}, 'done_reason': 'stop', 'done': True, 'total_duration': 3005357700, 'load_duration': 73164300, 'prompt_eval_count': 70, 'prompt_eval_duration': 454259000, 'eval_count': 31, 'eval_duration': 2474257000}, id='run-ff933c07-3d4e-4956-aaba-99eb21d54100-0')"
      ]
     },
     "execution_count": 6,
     "metadata": {},
     "output_type": "execute_result"
    }
   ],
   "source": [
    "from langchain_core.messages import AIMessage\n",
    "\n",
    "model.invoke(\n",
    "    [\n",
    "        HumanMessage(content=\"안녕? 난 차은우야. 나이는 20살이지\"),\n",
    "        AIMessage(content=\"안녕? 차은우야. 반가워! 20살이라니 부럽구나\"),\n",
    "        HumanMessage(content=\"내 이름이 뭐라고 했지?\")\n",
    "    ]\n",
    ")"
   ]
  }
 ],
 "metadata": {
  "kernelspec": {
   "display_name": "pystudy_env",
   "language": "python",
   "name": "python3"
  },
  "language_info": {
   "codemirror_mode": {
    "name": "ipython",
    "version": 3
   },
   "file_extension": ".py",
   "mimetype": "text/x-python",
   "name": "python",
   "nbconvert_exporter": "python",
   "pygments_lexer": "ipython3",
   "version": "3.12.5"
  }
 },
 "nbformat": 4,
 "nbformat_minor": 2
}
