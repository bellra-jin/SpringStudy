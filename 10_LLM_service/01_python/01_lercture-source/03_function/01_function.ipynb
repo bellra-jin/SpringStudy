{
 "cells": [
  {
   "cell_type": "markdown",
   "metadata": {},
   "source": [
    "# 01. 함수\n",
    "## 01-01. 함수 개요\n",
    "### 01-01-01. 함수란\n",
    "### 01-01-02. 함수 표현식"
   ]
  },
  {
   "cell_type": "code",
   "execution_count": 2,
   "metadata": {},
   "outputs": [
    {
     "name": "stdout",
     "output_type": "stream",
     "text": [
      "hello world!\n"
     ]
    }
   ],
   "source": [
    "def basic_function():\n",
    "    print(\"hello world!\")\n",
    "\n",
    "basic_function()"
   ]
  },
  {
   "cell_type": "markdown",
   "metadata": {},
   "source": [
    "## 01-02. 매개변수\n",
    "### 01-02-01. 파라미터"
   ]
  },
  {
   "cell_type": "code",
   "execution_count": 3,
   "metadata": {},
   "outputs": [
    {
     "name": "stdout",
     "output_type": "stream",
     "text": [
      "홍길동  :  안녕하세요\n"
     ]
    }
   ],
   "source": [
    "def greeting(name, greet):\n",
    "    print(name, \" : \", greet)\n",
    "\n",
    "greeting(\"홍길동\", \"안녕하세요\")"
   ]
  },
  {
   "cell_type": "markdown",
   "metadata": {},
   "source": [
    "### 01-02-02. 인자"
   ]
  },
  {
   "cell_type": "code",
   "execution_count": 8,
   "metadata": {},
   "outputs": [
    {
     "name": "stdout",
     "output_type": "stream",
     "text": [
      "tiger님이 가장 좋아하는 색상은 orangered입니다.\n",
      "monkey님이 가장 좋아하는 색상은 black입니다.\n",
      "monkey님이 가장 좋아하는 색상은 black입니다.\n"
     ]
    }
   ],
   "source": [
    "def information(name, color):\n",
    "    print(name + \"님이 가장 좋아하는 색상은 \" + color + \"입니다.\")\n",
    "\n",
    "# 위치 인자\n",
    "information(\"tiger\", \"orangered\")\n",
    "\n",
    "# 키워드 인자\n",
    "information(color=\"black\", name=\"monkey\")\n",
    "information(\"monkey\", color=\"black\")\n",
    "# information(color=\"black\", \"monkey\")\n",
    "# information(name=\"monkey\", \"black\")"
   ]
  },
  {
   "cell_type": "markdown",
   "metadata": {},
   "source": [
    "## 01-03. 반환값\n",
    "### 01-03-01. return"
   ]
  },
  {
   "cell_type": "code",
   "execution_count": 9,
   "metadata": {},
   "outputs": [
    {
     "name": "stdout",
     "output_type": "stream",
     "text": [
      "안녕하세요. 저는 호랑이입니다.\n"
     ]
    }
   ],
   "source": [
    "def introduce(name):\n",
    "    return f\"안녕하세요. 저는 \" + name + \"입니다.\"\n",
    "\n",
    "result = introduce(\"호랑이\")\n",
    "print(result)"
   ]
  },
  {
   "cell_type": "code",
   "execution_count": 13,
   "metadata": {},
   "outputs": [
    {
     "name": "stdout",
     "output_type": "stream",
     "text": [
      "(10, 4, 21, 2.3333333333333335)\n",
      "11 5 24 2.6666666666666665\n"
     ]
    }
   ],
   "source": [
    "def calc(a, b):\n",
    "    return a + b, a - b, a * b, a / b\n",
    "\n",
    "result = calc(7,3)\n",
    "print(result)\n",
    "\n",
    "plus, minus, multiply, divide = calc(8, 3)\n",
    "print(plus, minus, multiply, divide)"
   ]
  },
  {
   "cell_type": "markdown",
   "metadata": {},
   "source": [
    "## 01-04. 패키징과 언패키징"
   ]
  },
  {
   "cell_type": "markdown",
   "metadata": {},
   "source": [
    "### 01-04-01. 패키징\n",
    "- 위치 인자가 많을 때 *을 붙여서 패키징하여 하나의 객체로 처리할 수 있다."
   ]
  },
  {
   "cell_type": "code",
   "execution_count": 15,
   "metadata": {},
   "outputs": [
    {
     "data": {
      "text/plain": [
       "55"
      ]
     },
     "execution_count": 15,
     "metadata": {},
     "output_type": "execute_result"
    }
   ],
   "source": [
    "def add_many(* args):\n",
    "    result = 0\n",
    "\n",
    "    for i in args:\n",
    "        result = result + i\n",
    "    return result\n",
    "\n",
    "add_many(1, 2, 3, 4, 5, 6, 7, 8, 9, 10)"
   ]
  },
  {
   "cell_type": "markdown",
   "metadata": {},
   "source": [
    "### 01-04-02. 언패키징\n",
    "- 패키징과는 반대되는 개념으로 여러 개의 객체를 포함하는 하나의 객체를 풀어준다."
   ]
  },
  {
   "cell_type": "code",
   "execution_count": 16,
   "metadata": {},
   "outputs": [
    {
     "data": {
      "text/plain": [
       "6"
      ]
     },
     "execution_count": 16,
     "metadata": {},
     "output_type": "execute_result"
    }
   ],
   "source": [
    "def sum(a, b, c):\n",
    "    return a + b + c\n",
    "\n",
    "numbers = [1, 2, 3]\n",
    "sum(*numbers)"
   ]
  }
 ],
 "metadata": {
  "kernelspec": {
   "display_name": "pystudy_env",
   "language": "python",
   "name": "python3"
  },
  "language_info": {
   "codemirror_mode": {
    "name": "ipython",
    "version": 3
   },
   "file_extension": ".py",
   "mimetype": "text/x-python",
   "name": "python",
   "nbconvert_exporter": "python",
   "pygments_lexer": "ipython3",
   "version": "3.12.5"
  }
 },
 "nbformat": 4,
 "nbformat_minor": 2
}
